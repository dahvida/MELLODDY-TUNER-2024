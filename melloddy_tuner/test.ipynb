{
 "cells": [
  {
   "cell_type": "code",
   "execution_count": 2,
   "metadata": {},
   "outputs": [],
   "source": [
    "from rdkit import Chem\n",
    "from mordred import Calculator\n",
    "from mordred import Chi, ABCIndex, AcidBase"
   ]
  },
  {
   "cell_type": "code",
   "execution_count": 3,
   "metadata": {},
   "outputs": [],
   "source": [
    "mol = Chem.MolFromSmiles(\"CCCCC\")"
   ]
  },
  {
   "cell_type": "code",
   "execution_count": 5,
   "metadata": {},
   "outputs": [],
   "source": [
    "calc = Calculator([Chi, ABCIndex, AcidBase])"
   ]
  },
  {
   "cell_type": "code",
   "execution_count": 6,
   "metadata": {},
   "outputs": [],
   "source": [
    "a = calc(mol)"
   ]
  },
  {
   "cell_type": "code",
   "execution_count": 7,
   "metadata": {},
   "outputs": [
    {
     "data": {
      "text/plain": [
       "60"
      ]
     },
     "execution_count": 7,
     "metadata": {},
     "output_type": "execute_result"
    }
   ],
   "source": [
    "len(a)"
   ]
  },
  {
   "cell_type": "code",
   "execution_count": 11,
   "metadata": {},
   "outputs": [],
   "source": [
    "b = tuple(a)"
   ]
  },
  {
   "cell_type": "code",
   "execution_count": 12,
   "metadata": {},
   "outputs": [
    {
     "data": {
      "text/plain": [
       "(0.0,\n",
       " 0.0,\n",
       " 0.0,\n",
       " 0.0,\n",
       " 0.0,\n",
       " 0.0,\n",
       " 0.0,\n",
       " 0.0,\n",
       " 0.0,\n",
       " 0.0,\n",
       " 0.0,\n",
       " 0.0,\n",
       " 0.0,\n",
       " 0.0,\n",
       " 0.0,\n",
       " 0.0,\n",
       " 0.0,\n",
       " 0.0,\n",
       " 0.0,\n",
       " 0.0,\n",
       " 0.0,\n",
       " 0.0,\n",
       " 0.0,\n",
       " 0.0,\n",
       " 4.121320343559642,\n",
       " 2.414213562373095,\n",
       " 1.3535533905932737,\n",
       " 0.7071067811865476,\n",
       " 0.3535533905932738,\n",
       " 0.0,\n",
       " 0.0,\n",
       " 0.0,\n",
       " 0.8242640687119284,\n",
       " 0.6035533905932737,\n",
       " 0.45118446353109126,\n",
       " 0.3535533905932738,\n",
       " 0.3535533905932738,\n",
       " <mordred.error.Missing at 0x7f4e37473040>,\n",
       " <mordred.error.Missing at 0x7f4e2049ef40>,\n",
       " <mordred.error.Missing at 0x7f4e2049ebb0>,\n",
       " 4.121320343559642,\n",
       " 2.414213562373095,\n",
       " 1.3535533905932737,\n",
       " 0.7071067811865476,\n",
       " 0.3535533905932738,\n",
       " 0.0,\n",
       " 0.0,\n",
       " 0.0,\n",
       " 0.8242640687119284,\n",
       " 0.6035533905932737,\n",
       " 0.45118446353109126,\n",
       " 0.3535533905932738,\n",
       " 0.3535533905932738,\n",
       " <mordred.error.Missing at 0x7f4e2049e430>,\n",
       " <mordred.error.Missing at 0x7f4e2048b8e0>,\n",
       " <mordred.error.Missing at 0x7f4e2048b490>,\n",
       " 2.8284271247461903,\n",
       " 3.1462643699419726,\n",
       " 0,\n",
       " 0)"
      ]
     },
     "execution_count": 12,
     "metadata": {},
     "output_type": "execute_result"
    }
   ],
   "source": [
    "b\n"
   ]
  },
  {
   "cell_type": "code",
   "execution_count": 16,
   "metadata": {},
   "outputs": [
    {
     "name": "stdout",
     "output_type": "stream",
     "text": [
      "wee\n",
      "wee\n",
      "wee\n",
      "wee\n",
      "wee\n",
      "wee\n"
     ]
    }
   ],
   "source": [
    "for x in b:\n",
    "    if isinstance(x, mordred.error.Missing):\n",
    "        print(\"wee\")"
   ]
  },
  {
   "cell_type": "code",
   "execution_count": 17,
   "metadata": {},
   "outputs": [],
   "source": [
    "def parse_mordred_output(mordred_output):\n",
    "    descriptors = []\n",
    "    for desc in mordred_output:\n",
    "        if isinstance(desc, Missing):\n",
    "            descriptors.append(np.nan)\n",
    "        else:\n",
    "            descriptors.append(desc)\n",
    "    return tuple(descriptors)"
   ]
  },
  {
   "cell_type": "code",
   "execution_count": 22,
   "metadata": {},
   "outputs": [],
   "source": [
    "out = parse_mordred_output(a)"
   ]
  },
  {
   "cell_type": "code",
   "execution_count": 21,
   "metadata": {},
   "outputs": [],
   "source": [
    "from mordred.error import Missing\n",
    "import numpy as np"
   ]
  },
  {
   "cell_type": "code",
   "execution_count": 23,
   "metadata": {},
   "outputs": [
    {
     "data": {
      "text/plain": [
       "(0.0,\n",
       " 0.0,\n",
       " 0.0,\n",
       " 0.0,\n",
       " 0.0,\n",
       " 0.0,\n",
       " 0.0,\n",
       " 0.0,\n",
       " 0.0,\n",
       " 0.0,\n",
       " 0.0,\n",
       " 0.0,\n",
       " 0.0,\n",
       " 0.0,\n",
       " 0.0,\n",
       " 0.0,\n",
       " 0.0,\n",
       " 0.0,\n",
       " 0.0,\n",
       " 0.0,\n",
       " 0.0,\n",
       " 0.0,\n",
       " 0.0,\n",
       " 0.0,\n",
       " 4.121320343559642,\n",
       " 2.414213562373095,\n",
       " 1.3535533905932737,\n",
       " 0.7071067811865476,\n",
       " 0.3535533905932738,\n",
       " 0.0,\n",
       " 0.0,\n",
       " 0.0,\n",
       " 0.8242640687119284,\n",
       " 0.6035533905932737,\n",
       " 0.45118446353109126,\n",
       " 0.3535533905932738,\n",
       " 0.3535533905932738,\n",
       " nan,\n",
       " nan,\n",
       " nan,\n",
       " 4.121320343559642,\n",
       " 2.414213562373095,\n",
       " 1.3535533905932737,\n",
       " 0.7071067811865476,\n",
       " 0.3535533905932738,\n",
       " 0.0,\n",
       " 0.0,\n",
       " 0.0,\n",
       " 0.8242640687119284,\n",
       " 0.6035533905932737,\n",
       " 0.45118446353109126,\n",
       " 0.3535533905932738,\n",
       " 0.3535533905932738,\n",
       " nan,\n",
       " nan,\n",
       " nan,\n",
       " 2.8284271247461903,\n",
       " 3.1462643699419726,\n",
       " 0,\n",
       " 0)"
      ]
     },
     "execution_count": 23,
     "metadata": {},
     "output_type": "execute_result"
    }
   ],
   "source": [
    "out"
   ]
  },
  {
   "cell_type": "code",
   "execution_count": 24,
   "metadata": {},
   "outputs": [
    {
     "data": {
      "text/plain": [
       "array([False, False, False, False, False, False, False, False, False,\n",
       "       False, False, False, False, False, False, False, False, False,\n",
       "       False, False, False, False, False, False, False, False, False,\n",
       "       False, False, False, False, False, False, False, False, False,\n",
       "       False,  True,  True,  True, False, False, False, False, False,\n",
       "       False, False, False, False, False, False, False, False,  True,\n",
       "        True,  True, False, False, False, False])"
      ]
     },
     "execution_count": 24,
     "metadata": {},
     "output_type": "execute_result"
    }
   ],
   "source": [
    "np.isnan(out)"
   ]
  },
  {
   "cell_type": "code",
   "execution_count": null,
   "metadata": {},
   "outputs": [],
   "source": []
  }
 ],
 "metadata": {
  "kernelspec": {
   "display_name": "Python 3",
   "language": "python",
   "name": "python3"
  },
  "language_info": {
   "codemirror_mode": {
    "name": "ipython",
    "version": 3
   },
   "file_extension": ".py",
   "mimetype": "text/x-python",
   "name": "python",
   "nbconvert_exporter": "python",
   "pygments_lexer": "ipython3",
   "version": "3.8.2"
  }
 },
 "nbformat": 4,
 "nbformat_minor": 2
}
